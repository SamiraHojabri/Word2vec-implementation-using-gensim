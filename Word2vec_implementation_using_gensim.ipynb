{
  "nbformat": 4,
  "nbformat_minor": 0,
  "metadata": {
    "colab": {
      "name": "Word2vec implementation using gensim.ipynb",
      "provenance": [],
      "authorship_tag": "ABX9TyP/Dfe4fN/jD63Y+mZ86enK",
      "include_colab_link": true
    },
    "kernelspec": {
      "name": "python3",
      "display_name": "Python 3"
    },
    "language_info": {
      "name": "python"
    }
  },
  "cells": [
    {
      "cell_type": "markdown",
      "metadata": {
        "id": "view-in-github",
        "colab_type": "text"
      },
      "source": [
        "<a href=\"https://colab.research.google.com/github/mahdiehhojabri/Word2vec-implementation-using-gensim/blob/main/Word2vec_implementation_using_gensim.ipynb\" target=\"_parent\"><img src=\"https://colab.research.google.com/assets/colab-badge.svg\" alt=\"Open In Colab\"/></a>"
      ]
    },
    {
      "cell_type": "markdown",
      "metadata": {
        "id": "Y_fWtrl_VSzD"
      },
      "source": [
        "##Word2vec implementation using gensim"
      ]
    },
    {
      "cell_type": "markdown",
      "metadata": {
        "id": "X6RyWTjfNnyL"
      },
      "source": [
        "###Import Packages"
      ]
    },
    {
      "cell_type": "code",
      "metadata": {
        "id": "Ti-wAN6-aZ7P"
      },
      "source": [
        "import nltk\n",
        "import re\n",
        "from nltk.corpus import gutenberg\n",
        "from gensim.models import Word2Vec"
      ],
      "execution_count": 4,
      "outputs": []
    },
    {
      "cell_type": "markdown",
      "metadata": {
        "id": "rn60QviCWjRg"
      },
      "source": [
        "### 1.Data"
      ]
    },
    {
      "cell_type": "code",
      "metadata": {
        "colab": {
          "base_uri": "https://localhost:8080/"
        },
        "id": "g7ajdu3fa8kE",
        "outputId": "0eab21ef-bb24-40c9-e022-f46f945033e6"
      },
      "source": [
        "nltk.download(\"gutenberg\")\n",
        "nltk.download(\"punkt\")"
      ],
      "execution_count": 6,
      "outputs": [
        {
          "output_type": "stream",
          "text": [
            "[nltk_data] Downloading package gutenberg to /root/nltk_data...\n",
            "[nltk_data]   Unzipping corpora/gutenberg.zip.\n",
            "[nltk_data] Downloading package punkt to /root/nltk_data...\n",
            "[nltk_data]   Package punkt is already up-to-date!\n"
          ],
          "name": "stdout"
        },
        {
          "output_type": "execute_result",
          "data": {
            "text/plain": [
              "True"
            ]
          },
          "metadata": {
            "tags": []
          },
          "execution_count": 6
        }
      ]
    },
    {
      "cell_type": "code",
      "metadata": {
        "id": "IqYJwBodcoHJ"
      },
      "source": [
        "sentences = list(gutenberg.sents(\"/root/nltk_data/corpora/gutenberg/shakespeare-hamlet.txt\"))"
      ],
      "execution_count": 7,
      "outputs": []
    },
    {
      "cell_type": "code",
      "metadata": {
        "colab": {
          "base_uri": "https://localhost:8080/"
        },
        "id": "vsIm8nUsc-dP",
        "outputId": "c4d4a51b-754e-4626-9d67-e446b5a2a121"
      },
      "source": [
        "print(sentences[0])\n",
        "print(sentences[1])\n",
        "print(sentences[10])\n",
        "\n",
        "print(len(sentences))"
      ],
      "execution_count": 9,
      "outputs": [
        {
          "output_type": "stream",
          "text": [
            "['[', 'The', 'Tragedie', 'of', 'Hamlet', 'by', 'William', 'Shakespeare', '1599', ']']\n",
            "['Actus', 'Primus', '.']\n",
            "['Fran', '.']\n",
            "3106\n"
          ],
          "name": "stdout"
        }
      ]
    },
    {
      "cell_type": "markdown",
      "metadata": {
        "id": "LRNJY5YGWs1v"
      },
      "source": [
        "#### Preprocessing\n",
        "* change to lowercase\n",
        "* remove **numbers**, **punctuations**, etc.\n"
      ]
    },
    {
      "cell_type": "code",
      "metadata": {
        "id": "yg-WunOOek9F"
      },
      "source": [
        "for i in range(len(sentences)):\n",
        "  sentences[i] = [word.lower() for word in sentences[i] if re.match(\"[a-zA-Z]+\",word)]"
      ],
      "execution_count": 14,
      "outputs": []
    },
    {
      "cell_type": "code",
      "metadata": {
        "colab": {
          "base_uri": "https://localhost:8080/"
        },
        "id": "gtrlwbyEhF7E",
        "outputId": "afd4c1e7-0b1c-4158-d49b-9a11936baec7"
      },
      "source": [
        "print(sentences[0])\n",
        "print(sentences[1])\n",
        "print(sentences[10])"
      ],
      "execution_count": 15,
      "outputs": [
        {
          "output_type": "stream",
          "text": [
            "['the', 'tragedie', 'of', 'hamlet', 'by', 'william', 'shakespeare']\n",
            "['actus', 'primus']\n",
            "['fran']\n"
          ],
          "name": "stdout"
        }
      ]
    },
    {
      "cell_type": "markdown",
      "metadata": {
        "id": "XBzD-UxaXXwS"
      },
      "source": [
        "### 2.Network Design & Train"
      ]
    },
    {
      "cell_type": "code",
      "metadata": {
        "id": "0BqVExRgjIgd"
      },
      "source": [
        "model = Word2Vec(sentences=sentences, size=20, iter=100, window=3)"
      ],
      "execution_count": 16,
      "outputs": []
    },
    {
      "cell_type": "markdown",
      "metadata": {
        "id": "XVe_InN2Xh8P"
      },
      "source": [
        "### 3.Test"
      ]
    },
    {
      "cell_type": "code",
      "metadata": {
        "colab": {
          "base_uri": "https://localhost:8080/"
        },
        "id": "DJZ98W15nR-t",
        "outputId": "6107a665-c37e-4cb8-a134-18c8a2a99bcf"
      },
      "source": [
        "print(\"Unique word list length: \", len(model.wv.vocab))"
      ],
      "execution_count": 17,
      "outputs": [
        {
          "output_type": "stream",
          "text": [
            "Unique word list length:  685\n"
          ],
          "name": "stdout"
        }
      ]
    },
    {
      "cell_type": "code",
      "metadata": {
        "colab": {
          "base_uri": "https://localhost:8080/"
        },
        "id": "JPt9Rd5_rMRC",
        "outputId": "7020928d-0c6b-45f6-9ad2-026510e4800d"
      },
      "source": [
        "print(model.wv.__getitem__(\"king\"))"
      ],
      "execution_count": 19,
      "outputs": [
        {
          "output_type": "stream",
          "text": [
            "[ 0.22016527  0.19111967  0.713774    0.44236025 -0.07472008 -0.06731095\n",
            " -1.1025943   0.39292294 -0.13314469 -1.1720023  -0.3299601   0.68852025\n",
            "  0.12058669 -1.2092361  -1.1918596  -0.18370108 -0.24506512 -1.724279\n",
            "  0.6283034   0.557571  ]\n"
          ],
          "name": "stdout"
        }
      ]
    },
    {
      "cell_type": "code",
      "metadata": {
        "colab": {
          "base_uri": "https://localhost:8080/"
        },
        "id": "YqR6Gw_4sLIq",
        "outputId": "bd83c17f-e121-4220-8ce9-9f115c79f7f8"
      },
      "source": [
        "model.wv.most_similar(\"king\")"
      ],
      "execution_count": 23,
      "outputs": [
        {
          "output_type": "execute_result",
          "data": {
            "text/plain": [
              "[('houre', 0.7792409658432007),\n",
              " ('polon', 0.7444812059402466),\n",
              " ('laer', 0.682230532169342),\n",
              " ('queene', 0.675136148929596),\n",
              " ('osricke', 0.6733776330947876),\n",
              " ('fran', 0.6685429215431213),\n",
              " ('double', 0.6539073586463928),\n",
              " ('polonius', 0.6533252000808716),\n",
              " ('guild', 0.6382068991661072),\n",
              " ('lords', 0.638126790523529)]"
            ]
          },
          "metadata": {
            "tags": []
          },
          "execution_count": 23
        }
      ]
    }
  ]
}